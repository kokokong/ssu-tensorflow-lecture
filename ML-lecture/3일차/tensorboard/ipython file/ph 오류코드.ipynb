{
 "cells": [
  {
   "cell_type": "code",
   "execution_count": null,
   "metadata": {
    "collapsed": false
   },
   "outputs": [],
   "source": [
    "import tensorflow as tf\n",
    "import matplotlib.image as mpimg\n",
    "import matplotlib.pyplot as plt\n",
    "\n",
    "with tf.name_scope('Image') as scope:\n",
    "    filename = \"cat.jpg\"\n",
    "    image = mpimg.imread(filename)\n",
    "    height, width, color = image.shape\n",
    "with tf.name_scope('transpose') as scope:\n",
    "    x = tf.placeholder('uint8', [height, width, 3])\n",
    "    image_input = tf.reshape(image, [-1, height, width, color])\n",
    "    input_sum = tf.summary.image('input', image_input, 3)\n",
    "    print(image.shape)\n",
    "    transpose_x = tf.transpose(x, perm=[1, 0, 2], name='transpose')\n",
    "    transpose_img = tf.reshape(transpose_x, [-1, width, height, 3])\n",
    "    output_sum = tf.summary.image('output', transpose_img, 3)\n",
    "\n",
    "init = tf.global_variables_initializer()\n",
    "\n",
    "with tf.Session() as sess:\n",
    "    sess.run(init)\n",
    "    merged = tf.summary.merge_all()\n",
    "    writer = tf.summary.FileWriter(\"./logs/Do_plt\", sess.graph)\n",
    "    result = sess.run(transpose_x, feed_dict={x:image})\n",
    "    summary = sess.run(merged)\n",
    "    writer.add_summary(summary)\n",
    "\n",
    "plt.imshow(result)\n",
    "plt.show()"
   ]
  },
  {
   "cell_type": "code",
   "execution_count": null,
   "metadata": {
    "collapsed": true
   },
   "outputs": [],
   "source": []
  }
 ],
 "metadata": {
  "anaconda-cloud": {},
  "kernelspec": {
   "display_name": "Python [conda root]",
   "language": "python",
   "name": "conda-root-py"
  },
  "language_info": {
   "codemirror_mode": {
    "name": "ipython",
    "version": 3
   },
   "file_extension": ".py",
   "mimetype": "text/x-python",
   "name": "python",
   "nbconvert_exporter": "python",
   "pygments_lexer": "ipython3",
   "version": "3.5.2"
  }
 },
 "nbformat": 4,
 "nbformat_minor": 1
}
