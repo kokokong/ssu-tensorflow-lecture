{
 "cells": [
  {
   "cell_type": "code",
   "execution_count": 6,
   "metadata": {
    "collapsed": false
   },
   "outputs": [
    {
     "name": "stdout",
     "output_type": "stream",
     "text": [
      "x:  [ 7.45534658  5.95407009  6.80602789  3.09135914  2.37412691] mean:  5.083\n",
      "x:  [ 7.14212799  1.00506902  1.76410317  3.53433847  8.33018875] mean:  5.95299\n",
      "x:  [ 6.98701286  5.60444593  8.59779453  0.25814652  4.42765331] mean:  7.42274\n",
      "x:  [ 5.99669838  4.5381918   8.48020363  9.0525322   5.19527912] mean:  3.74706\n",
      "x:  [ 7.96073341  6.48904228  3.68977785  4.39165497  8.03026962] mean:  5.93882\n"
     ]
    }
   ],
   "source": [
    "import tensorflow as tf\n",
    "import numpy as np\n",
    "\n",
    "seed = np.random.seed()\n",
    "x = tf.random_uniform([5],minval=0.0,maxval=10.0,\n",
    "                     dtype=tf.float32, seed=seed)\n",
    "mean = tf.reduce_mean(x)\n",
    "init = tf.global_variables_initializer()\n",
    "with tf.Session() as sess:\n",
    "    sess.run(init)\n",
    "    for i in range(5):\n",
    "        sess.run(x)\n",
    "        sess.run(mean)\n",
    "        print('x: ', sess.run(x),\n",
    "              'mean: ', sess.run(mean))"
   ]
  },
  {
   "cell_type": "code",
   "execution_count": null,
   "metadata": {
    "collapsed": true
   },
   "outputs": [],
   "source": []
  }
 ],
 "metadata": {
  "kernelspec": {
   "display_name": "Python [conda root]",
   "language": "python",
   "name": "conda-root-py"
  },
  "language_info": {
   "codemirror_mode": {
    "name": "ipython",
    "version": 3
   },
   "file_extension": ".py",
   "mimetype": "text/x-python",
   "name": "python",
   "nbconvert_exporter": "python",
   "pygments_lexer": "ipython3",
   "version": "3.5.2"
  }
 },
 "nbformat": 4,
 "nbformat_minor": 1
}
