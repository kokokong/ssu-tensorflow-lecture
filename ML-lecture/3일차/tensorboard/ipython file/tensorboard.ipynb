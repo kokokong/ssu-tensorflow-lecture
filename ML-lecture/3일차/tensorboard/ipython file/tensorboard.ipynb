{
 "cells": [
  {
   "cell_type": "code",
   "execution_count": null,
   "metadata": {
    "collapsed": true
   },
   "outputs": [],
   "source": [
    "import tensorflow as tf\n",
    "\n",
    "with tf.name_scope('input') as scope:\n",
    "    a = tf.Variable(2000,name='a')\n",
    "    b = tf.Variable(17,name='b')\n",
    "\n",
    "with tf.name_scope('operation') as scope:\n",
    "    add = tf.add(a,b,name='add')\n",
    "    sub = tf.sub(a,b,name='sub')\n",
    "    mul = tf.mul(a,b,name='mul')\n",
    "    div = tf.div(a,b,name='div')\n",
    "\n",
    "init = tf.global_variables_initializer()\n",
    "\n",
    "with tf.Session() as sess:\n",
    "    sess.run(init)\n",
    "    writer = tf.summary.FileWriter(\n",
    "        './logs/Do_tensorboard', sess.graph)\n",
    "    print(sess.run(add))\n",
    "    print(sess.run(sub))\n",
    "    print(sess.run(mul))\n",
    "    print(sess.run(div))\n"
   ]
  },
  {
   "cell_type": "code",
   "execution_count": null,
   "metadata": {
    "collapsed": true
   },
   "outputs": [],
   "source": [
    "import tensorflow as tf\n",
    "import matplotlib.image as mpimg\n",
    "import matplotlib.pyplot as plt\n",
    "\n",
    "filename = \"cat.jpg\"\n",
    "image = mpimg.imread(filename)\n",
    "height, width, color = image.shape\n",
    "print(image.shape) \n",
    "\n",
    "x = tf.Variable(image, name='x')\n",
    "init = tf.global_variables_initializer()\n",
    "\n",
    "with tf.Session() as sess:\n",
    "    x = tf.transpose(x, perm=[1, 0, 2])\n",
    "    sess.run(init)\n",
    "    result = sess.run(x)\n",
    "print(result.shape)\n",
    "plt.imshow(result)\n",
    "plt.show()\n"
   ]
  },
  {
   "cell_type": "code",
   "execution_count": null,
   "metadata": {
    "collapsed": false
   },
   "outputs": [],
   "source": [
    "import tensorflow as tf\n",
    "import matplotlib.image as mpimg\n",
    "import matplotlib.pyplot as plt\n",
    "\n",
    "with tf.name_scope('Image') as scope:\n",
    "    filename = \"cat.jpg\"\n",
    "    image = mpimg.imread(filename)\n",
    "    height, width, color = image.shape\n",
    "    image_shaped_input = tf.reshape(image,[-1,height,width,3])\n",
    "    input_sum = tf.summary.image('input',image_shaped_input,3)\n",
    "    print(image.shape) \n",
    "    x = tf.Variable(image, name='x')\n",
    "    transpose_x = tf.transpose(x, perm=[1, 0, 2], name='transpose')\n",
    "    transpose_img = tf.reshape(transpose_x,[-1,width,height,3])\n",
    "    output_sum = tf.summary.image('output',transpose_img, 3)\n",
    "    \n",
    "init = tf.global_variables_initializer()\n",
    "\n",
    "with tf.Session() as sess:\n",
    "    sess.run(init)\n",
    "    merged = tf.summary.merge_all()\n",
    "    writer = tf.summary.FileWriter(\"./logs/Do_plt\", sess.graph)\n",
    "    summary = sess.run(merged)\n",
    "    writer.add_summary(summary)\n",
    "    result = sess.run(transpose_x)\n",
    "\n",
    "plt.imshow(result)\n",
    "plt.show()\n"
   ]
  },
  {
   "cell_type": "code",
   "execution_count": null,
   "metadata": {
    "collapsed": false
   },
   "outputs": [],
   "source": [
    "import tensorflow as tf\n",
    "import matplotlib.image as mpimg\n",
    "import matplotlib.pyplot as plt\n",
    "\n",
    "with tf.name_scope('Image') as scope:\n",
    "    filename = \"cat.jpg\"\n",
    "    image = mpimg.imread(filename)\n",
    "    height, width, color = image.shape\n",
    "    x = tf.placeholder('uint8', [height, width, 3])\n",
    "    image_input = tf.reshape(image, [-1, height, width, color])\n",
    "    input_sum = tf.summary.image('input', image_input, 3)\n",
    "    print(image.shape)\n",
    "    transpose_x = tf.transpose(x, perm=[1, 0, 2], name='transpose')\n",
    "    transpose_img = tf.reshape(transpose_x, [-1, width, height, 3])\n",
    "    output_sum = tf.summary.image('output', transpose_img, 3)\n",
    "\n",
    "init = tf.global_variables_initializer()\n",
    "\n",
    "with tf.Session() as sess:\n",
    "    sess.run(init)\n",
    "    merged = tf.summary.merge_all()\n",
    "    writer = tf.summary.FileWriter(\"./logs/Do_plt2\", sess.graph)\n",
    "    feed = {x: image}\n",
    "    result = sess.run(transpose_x, feed_dict=feed)\n",
    "    summary = sess.run(merged,feed_dict=feed)\n",
    "    writer.add_summary(summary)\n",
    "\n",
    "plt.imshow(result)\n",
    "plt.show()"
   ]
  },
  {
   "cell_type": "code",
   "execution_count": null,
   "metadata": {
    "collapsed": true
   },
   "outputs": [],
   "source": [
    "import tensorflow as tf\n",
    "import numpy as np\n",
    "\n",
    "with tf.name_scope('init') as scope:\n",
    "    seed = np.random.seed()\n",
    "    x = tf.random_uniform([5],minval=0.0,maxval=10.0,\n",
    "                         dtype=tf.float32, seed=seed)\n",
    "    x_sum = tf.summary.histogram('x', x)\n",
    "with tf.name_scope('mean') as scope:\n",
    "    mean = tf.reduce_mean(x)\n",
    "    mean_sum = tf.summary.scalar('mean', mean)\n",
    "\n",
    "init = tf.global_variables_initializer()\n",
    "with tf.Session() as sess:\n",
    "    merged = tf.summary.merge_all()\n",
    "    writer = tf.summary.FileWriter('./logs/example', sess.graph)\n",
    "    sess.run(init)\n",
    "    for i in range(5):\n",
    "        sess.run(x)\n",
    "        sess.run(mean)\n",
    "        summary = sess.run(merged)\n",
    "        writer.add_summary(summary, i)\n",
    "        print('X: ', sess.run(x),\n",
    "              'MEAN: ', sess.run(mean))\n"
   ]
  },
  {
   "cell_type": "code",
   "execution_count": null,
   "metadata": {
    "collapsed": false
   },
   "outputs": [],
   "source": []
  }
 ],
 "metadata": {
  "anaconda-cloud": {},
  "kernelspec": {
   "display_name": "Python [default]",
   "language": "python",
   "name": "python3"
  },
  "language_info": {
   "codemirror_mode": {
    "name": "ipython",
    "version": 3
   },
   "file_extension": ".py",
   "mimetype": "text/x-python",
   "name": "python",
   "nbconvert_exporter": "python",
   "pygments_lexer": "ipython3",
   "version": "3.5.2"
  }
 },
 "nbformat": 4,
 "nbformat_minor": 1
}
