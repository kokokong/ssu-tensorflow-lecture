{
 "cells": [
  {
   "cell_type": "code",
   "execution_count": null,
   "metadata": {
    "collapsed": true
   },
   "outputs": [],
   "source": [
    "import numpy as np\n",
    "import tensorflow as tf\n",
    "import matplotlib.pyplot as plt\n",
    "\n",
    "\n",
    "\n",
    "with tf.name_scope('init') as scope:\n",
    "    point_num = 1000\n",
    "    x_data = [0]*point_num\n",
    "    y_data = [0]*point_num\n",
    "\n",
    "    for i in range(point_num):\n",
    "        x_data[i] = np.random.normal(0.0, 0.5)\n",
    "        # x 축 방향으로 0.55의 분산을 갖는 정규분포 난수 생성\n",
    "        y_data[i] = x_data[i]+ np.random.normal(0.0, 0.3)\n",
    "        # x 축 방향에 대해 생성된 난수를 y축 방향으로 0.03의 분포를 가지도록 난수 생성\n",
    "\n",
    "    #Graphic display\n",
    "    plt.plot(x_data,y_data,'ro')\n",
    "    plt.xlabel('X')\n",
    "    plt.ylabel('Y')\n",
    "    plt.show()\n",
    "\n",
    "with tf.name_scope(\"init\") as scope:\n",
    "    W = tf.Variable(tf.random_uniform([1], -1.0, 1.0),name='W')\n",
    "    b = tf.Variable(tf.zeros([1]),name='b')\n",
    "    y = W * x_data + b\n",
    "\n",
    "with tf.name_scope(\"loss\") as scope:\n",
    "    learning_rate = 0.05\n",
    "    cost = tf.reduce_mean(tf.square(y - y_data))\n",
    "    cost_sum = tf.summary.histogram('loss',cost)\n",
    "    optimizer = tf.train.GradientDescentOptimizer(learning_rate)\n",
    "    train = optimizer.minimize(cost)\n",
    "\n",
    "def plt_print():\n",
    "    plt.plot(x_data, y_data, 'ro')\n",
    "    plt.plot(x_data, sess.run(W) * x_data + sess.run(b))\n",
    "    plt.xlabel('x')\n",
    "    plt.ylabel('y')\n",
    "    plt.show()\n",
    "\n",
    "init = tf.global_variables_initializer()\n",
    "\n",
    "with tf.Session() as sess:\n",
    "    sess.run(init)\n",
    "    merged = tf.summary.merge_all()\n",
    "    writer = tf.summary.FileWriter(\"./logs/linear\", sess.graph)\n",
    "    for step in range(2000):\n",
    "        sess.run(train)\n",
    "        print(step, sess.run(W), sess.run(b))\n",
    "        print(step, sess.run(cost))\n",
    "        summary = sess.run(merged)\n",
    "        writer.add_summary(summary,step)\n",
    "    plt_print()"
   ]
  }
 ],
 "metadata": {
  "anaconda-cloud": {},
  "kernelspec": {
   "display_name": "Python [conda root]",
   "language": "python",
   "name": "conda-root-py"
  },
  "language_info": {
   "codemirror_mode": {
    "name": "ipython",
    "version": 3
   },
   "file_extension": ".py",
   "mimetype": "text/x-python",
   "name": "python",
   "nbconvert_exporter": "python",
   "pygments_lexer": "ipython3",
   "version": "3.5.2"
  }
 },
 "nbformat": 4,
 "nbformat_minor": 1
}
