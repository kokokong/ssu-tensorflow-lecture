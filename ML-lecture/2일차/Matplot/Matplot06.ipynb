{
 "cells": [
  {
   "cell_type": "code",
   "execution_count": null,
   "metadata": {
    "collapsed": false
   },
   "outputs": [],
   "source": [
    "import tensorflow as tf\n",
    "import matplotlib.image as mpimg\n",
    "import matplotlib.pyplot as plt\n",
    "\n",
    "filename = \"도깨비.jpg\"\n",
    "image = mpimg.imread(filename)\n",
    "height, width, color = image.shape\n",
    "\n",
    "x = tf.placeholder(\"uint8\", [None, None, 3],name = 'x')\n",
    "reverse_x = tf.reverse_sequence(x,[width] * height, 1,0)\n",
    "reverse_y = tf.reverse_sequence(x,width * [height], 0,1)\n",
    "\n",
    "def show_img(result,name):\n",
    "    print(\"changed_shape: \", result.shape)\n",
    "    plt.imshow(result)\n",
    "    plt.xticks([]),plt.yticks([])\n",
    "    plt.title(name)\n",
    "    plt.show()\n",
    "\n",
    "\n",
    "with tf.Session() as sess:\n",
    "    result = sess.run(reverse_y,feed_dict={x:image})\n",
    "    show_img(result,\"top bottom\")"
   ]
  },
  {
   "cell_type": "code",
   "execution_count": null,
   "metadata": {
    "collapsed": false
   },
   "outputs": [],
   "source": [
    "import tensorflow as tf\n",
    "import matplotlib.image as mpimg\n",
    "import matplotlib.pyplot as plt\n",
    "\n",
    "filename = \"도깨비.jpg\"\n",
    "image = mpimg.imread(filename)\n",
    "height, width, color = image.shape\n",
    "\n",
    "x = tf.placeholder(\"uint8\", [None, None, 3],name = 'x')\n",
    "reverse_x = tf.reverse_sequence(x,[width] * height, 1,0)\n",
    "reverse_y = tf.reverse_sequence(x,width * [height], 0,1)\n",
    "\n",
    "def show_img(result,name):\n",
    "    print(\"changed_shape: \", result.shape)\n",
    "    plt.imshow(result)\n",
    "    plt.xticks([]),plt.yticks([])\n",
    "    plt.title(name)\n",
    "    plt.show()\n",
    "\n",
    "\n",
    "with tf.Session() as sess:\n",
    "    result = sess.run(reverse_y,feed_dict={x:image})\n",
    "    show_img(result,\"top bottom\")\n",
    "    result = sess.run(reverse_x, feed_dict={x: image})\n",
    "    show_img(result,\"left right\")\n"
   ]
  },
  {
   "cell_type": "code",
   "execution_count": null,
   "metadata": {
    "collapsed": false
   },
   "outputs": [],
   "source": [
    "import tensorflow as tf\n",
    "import matplotlib.image as mpimg\n",
    "import matplotlib.pyplot as plt\n",
    "\n",
    "filename = \"도깨비.jpg\"\n",
    "image = mpimg.imread(filename)\n",
    "height, width, color = image.shape\n",
    "\n",
    "x = tf.placeholder(\"uint8\", [None, None, 3],name = 'x')\n",
    "reverse_x = tf.reverse_sequence(x,[width] * height, 1,0)\n",
    "reverse_y = tf.reverse_sequence(x,width * [height], 0,1)\n",
    "\n",
    "def show_img(result,name):\n",
    "    print(\"changed_shape: \", result.shape)\n",
    "    plt.imshow(result)\n",
    "    plt.xticks([]),plt.yticks([])\n",
    "    plt.title(name)\n",
    "    plt.show()\n",
    "\n",
    "\n",
    "with tf.Session() as sess:\n",
    "    result = sess.run(reverse_y,feed_dict={x:image})\n",
    "    show_img(result,\"top bottom\")\n",
    "    result = sess.run(reverse_x, feed_dict={x: image})\n",
    "    show_img(result,\"left right\")\n",
    "    result = sess.run(reverse_y,feed_dict={x:result})\n",
    "    show_img(result,\"x y\")\n"
   ]
  },
  {
   "cell_type": "code",
   "execution_count": null,
   "metadata": {
    "collapsed": true
   },
   "outputs": [],
   "source": []
  }
 ],
 "metadata": {
  "anaconda-cloud": {},
  "kernelspec": {
   "display_name": "Python [conda root]",
   "language": "python",
   "name": "conda-root-py"
  },
  "language_info": {
   "codemirror_mode": {
    "name": "ipython",
    "version": 3
   },
   "file_extension": ".py",
   "mimetype": "text/x-python",
   "name": "python",
   "nbconvert_exporter": "python",
   "pygments_lexer": "ipython3",
   "version": "3.5.2"
  }
 },
 "nbformat": 4,
 "nbformat_minor": 1
}
