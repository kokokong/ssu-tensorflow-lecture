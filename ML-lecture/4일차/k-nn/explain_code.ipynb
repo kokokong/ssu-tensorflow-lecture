{
 "cells": [
  {
   "cell_type": "code",
   "execution_count": null,
   "metadata": {
    "collapsed": false
   },
   "outputs": [],
   "source": [
    "import tensorflow as tf\n",
    "import numpy as np\n",
    "\n",
    "with tf.name_scope('example')as scope:\n",
    "    x = np.loadtxt('a.csv',delimiter=',',dtype=np.float32)\n",
    "    x_label = x[0][0]\n",
    "    x_data = x[1:]\n",
    "print(x)\n",
    "print(x_data.shape)"
   ]
  },
  {
   "cell_type": "code",
   "execution_count": null,
   "metadata": {
    "collapsed": false
   },
   "outputs": [],
   "source": [
    "import tensorflow as tf\n",
    "import numpy as np\n",
    "\n",
    "with tf.name_scope('example')as scope:\n",
    "    x = np.loadtxt('a.csv',delimiter=',',unpack=True,dtype=np.float32)\n",
    "    x_label = x[0][0]\n",
    "    x_data = x[1:]\n",
    "print(x)\n",
    "print(x_data.shape)"
   ]
  },
  {
   "cell_type": "code",
   "execution_count": null,
   "metadata": {
    "collapsed": false
   },
   "outputs": [],
   "source": [
    "import tensorflow as tf\n",
    "import numpy as np\n",
    "\n",
    "with tf.name_scope('example')as scope:\n",
    "    x = np.loadtxt('a.csv',delimiter=',',unpack=True,dtype=np.float32)\n",
    "    x_label = x[0][0]\n",
    "    x_data = np.transpose(x[1:])\n",
    "\n",
    "print(x_data.shape)"
   ]
  },
  {
   "cell_type": "code",
   "execution_count": null,
   "metadata": {
    "collapsed": false
   },
   "outputs": [],
   "source": [
    "import tensorflow as tf\n",
    "import numpy as np\n",
    "\n",
    "a = [[1,2],[2,10],[3,5],[4,22],[5,100]]\n",
    "unsorted = tf.placeholder('float',[5,2])\n",
    "sort = tf.nn.top_k(unsorted[:,1], k=4, sorted=True)\n",
    "\n",
    "init = tf.global_variables_initializer()\n",
    "\n",
    "with tf.Session() as sess:\n",
    "    sess.run(init)\n",
    "    sorted = sess.run(sort,feed_dict={unsorted:a})\n",
    "    print(sorted)"
   ]
  },
  {
   "cell_type": "code",
   "execution_count": null,
   "metadata": {
    "collapsed": false
   },
   "outputs": [],
   "source": [
    "import tensorflow as tf\n",
    "import numpy as np\n",
    "\n",
    "a = [[1,2],[2,10],[3,5],[4,22],[5,100]]\n",
    "unsorted = tf.placeholder('float',[5,2])\n",
    "sort = tf.nn.top_k(unsorted[:,1], k=4, sorted=False) # 오름차순 정리가 아닌 랜덤하게 정리된다.\n",
    "\n",
    "init = tf.global_variables_initializer()\n",
    "\n",
    "with tf.Session() as sess:\n",
    "    sess.run(init)\n",
    "    sorted = sess.run(sort,feed_dict={unsorted:a})\n",
    "    print(sorted)"
   ]
  },
  {
   "cell_type": "code",
   "execution_count": null,
   "metadata": {
    "collapsed": true
   },
   "outputs": [],
   "source": []
  }
 ],
 "metadata": {
  "anaconda-cloud": {},
  "kernelspec": {
   "display_name": "Python [conda root]",
   "language": "python",
   "name": "conda-root-py"
  },
  "language_info": {
   "codemirror_mode": {
    "name": "ipython",
    "version": 3
   },
   "file_extension": ".py",
   "mimetype": "text/x-python",
   "name": "python",
   "nbconvert_exporter": "python",
   "pygments_lexer": "ipython3",
   "version": "3.5.2"
  }
 },
 "nbformat": 4,
 "nbformat_minor": 1
}
